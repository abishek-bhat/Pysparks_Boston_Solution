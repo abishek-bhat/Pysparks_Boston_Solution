{
 "cells": [
  {
   "cell_type": "code",
   "execution_count": null,
   "metadata": {},
   "outputs": [],
   "source": [
    "The Below Code consists of \n",
    "    Q.1 Read the given CSV file in a Hive table \n",
    "    Q2. Read the data from Hive table as spark dataframe \n",
    "    Q3. Get the correlation between dependent and independent variables\n",
    "    Q4. Build a linear regression model to predict house price \n",
    "    Q5. Evaluate the Linear Regression model by getting the RMSE and R-squared values"
   ]
  },
  {
   "cell_type": "code",
   "execution_count": 1,
   "metadata": {
    "colab": {
     "base_uri": "https://localhost:8080/"
    },
    "executionInfo": {
     "elapsed": 54068,
     "status": "ok",
     "timestamp": 1659196968234,
     "user": {
      "displayName": "19BEC4166 Roahit S",
      "userId": "06327347452334748308"
     },
     "user_tz": -330
    },
    "id": "IL5WkBkQwyzN",
    "outputId": "46aba0aa-680a-4e75-929a-34c247fa146e"
   },
   "outputs": [],
   "source": [
    "pip install pyspark"
   ]
  },
  {
   "cell_type": "code",
   "execution_count": 2,
   "metadata": {
    "executionInfo": {
     "elapsed": 637,
     "status": "ok",
     "timestamp": 1659196968856,
     "user": {
      "displayName": "19BEC4166 Roahit S",
      "userId": "06327347452334748308"
     },
     "user_tz": -330
    },
    "id": "K6_nU_jazL5B"
   },
   "outputs": [],
   "source": [
    "import pyspark"
   ]
  },
  {
   "cell_type": "code",
   "execution_count": 3,
   "metadata": {
    "collapsed": true,
    "executionInfo": {
     "elapsed": 6,
     "status": "ok",
     "timestamp": 1659196968856,
     "user": {
      "displayName": "19BEC4166 Roahit S",
      "userId": "06327347452334748308"
     },
     "user_tz": -330
    },
    "id": "j7aKoXN6wyzP"
   },
   "outputs": [],
   "source": [
    "from pyspark.sql import SparkSession"
   ]
  },
  {
   "cell_type": "code",
   "execution_count": 4,
   "metadata": {
    "collapsed": true,
    "executionInfo": {
     "elapsed": 8322,
     "status": "ok",
     "timestamp": 1659196977172,
     "user": {
      "displayName": "19BEC4166 Roahit S",
      "userId": "06327347452334748308"
     },
     "user_tz": -330
    },
    "id": "9w35pHclwyzQ"
   },
   "outputs": [],
   "source": [
    "spark = SparkSession.builder.appName(\"MLhands-on\").enableHiveSupport().getOrCreate()"
   ]
  },
  {
   "cell_type": "code",
   "execution_count": 5,
   "metadata": {
    "collapsed": true,
    "executionInfo": {
     "elapsed": 11464,
     "status": "ok",
     "timestamp": 1659196988629,
     "user": {
      "displayName": "19BEC4166 Roahit S",
      "userId": "06327347452334748308"
     },
     "user_tz": -330
    },
    "id": "DiqHo-okwyzR"
   },
   "outputs": [],
   "source": [
    "df=spark.read.csv('boston.csv',header='true', inferSchema='true')"
   ]
  },
  {
   "cell_type": "code",
   "execution_count": 7,
   "metadata": {
    "colab": {
     "base_uri": "https://localhost:8080/"
    },
    "collapsed": true,
    "executionInfo": {
     "elapsed": 11,
     "status": "ok",
     "timestamp": 1659196988631,
     "user": {
      "displayName": "19BEC4166 Roahit S",
      "userId": "06327347452334748308"
     },
     "user_tz": -330
    },
    "id": "kcAW7NCKwyzW",
    "outputId": "c3c9c756-3b66-474f-d785-02d5fa64b147"
   },
   "outputs": [
    {
     "name": "stdout",
     "output_type": "stream",
     "text": [
      "root\n",
      " |-- CRIM: double (nullable = true)\n",
      " |-- ZN: double (nullable = true)\n",
      " |-- INDUS: double (nullable = true)\n",
      " |-- CHAS: integer (nullable = true)\n",
      " |-- NOX: double (nullable = true)\n",
      " |-- RM: double (nullable = true)\n",
      " |-- AGE: double (nullable = true)\n",
      " |-- DIS: double (nullable = true)\n",
      " |-- RAD: integer (nullable = true)\n",
      " |-- TAX: integer (nullable = true)\n",
      " |-- PT: double (nullable = true)\n",
      " |-- B: double (nullable = true)\n",
      " |-- LSTAT: double (nullable = true)\n",
      " |-- MV: double (nullable = true)\n",
      "\n"
     ]
    }
   ],
   "source": [
    "df.printSchema()"
   ]
  },
  {
   "cell_type": "code",
   "execution_count": 10,
   "metadata": {
    "collapsed": true,
    "executionInfo": {
     "elapsed": 21,
     "status": "ok",
     "timestamp": 1659196994622,
     "user": {
      "displayName": "19BEC4166 Roahit S",
      "userId": "06327347452334748308"
     },
     "user_tz": -330
    },
    "id": "TDDsYmvWwyzZ"
   },
   "outputs": [],
   "source": [
    "pandas_df = df.toPandas()\n",
    "pandas_df.head(5)"
   ]
  },
  {
   "cell_type": "code",
   "execution_count": 12,
   "metadata": {
    "colab": {
     "base_uri": "https://localhost:8080/"
    },
    "executionInfo": {
     "elapsed": 26,
     "status": "ok",
     "timestamp": 1659196995266,
     "user": {
      "displayName": "19BEC4166 Roahit S",
      "userId": "06327347452334748308"
     },
     "user_tz": -330
    },
    "id": "aNjVDGHMwyza",
    "outputId": "7469dc18-5c19-4ac1-a48f-8ee73c4aa092"
   },
   "outputs": [
    {
     "data": {
      "text/plain": [
       "CRIM    -0.388305\n",
       "ZN       0.360445\n",
       "INDUS   -0.483725\n",
       "CHAS     0.175260\n",
       "NOX     -0.427321\n",
       "RM       0.695360\n",
       "AGE     -0.376955\n",
       "DIS      0.249929\n",
       "RAD     -0.381626\n",
       "TAX     -0.468536\n",
       "PT      -0.507787\n",
       "B        0.333461\n",
       "LSTAT   -0.737663\n",
       "MV       1.000000\n",
       "Name: MV, dtype: float64"
      ]
     },
     "execution_count": 12,
     "metadata": {},
     "output_type": "execute_result"
    }
   ],
   "source": [
    "pandas_df.corr()['MV']"
   ]
  },
  {
   "cell_type": "code",
   "execution_count": 13,
   "metadata": {
    "collapsed": true,
    "executionInfo": {
     "elapsed": 23,
     "status": "ok",
     "timestamp": 1659196995268,
     "user": {
      "displayName": "19BEC4166 Roahit S",
      "userId": "06327347452334748308"
     },
     "user_tz": -330
    },
    "id": "oRMruVOuwyzc"
   },
   "outputs": [],
   "source": [
    "feature_columns = df.columns[:-1]"
   ]
  },
  {
   "cell_type": "code",
   "execution_count": 15,
   "metadata": {
    "collapsed": true,
    "executionInfo": {
     "elapsed": 22,
     "status": "ok",
     "timestamp": 1659196995271,
     "user": {
      "displayName": "19BEC4166 Roahit S",
      "userId": "06327347452334748308"
     },
     "user_tz": -330
    },
    "id": "rZWm8o8Lwyze"
   },
   "outputs": [],
   "source": [
    "from pyspark.ml.feature import VectorAssembler"
   ]
  },
  {
   "cell_type": "code",
   "execution_count": 16,
   "metadata": {
    "collapsed": true,
    "executionInfo": {
     "elapsed": 20,
     "status": "ok",
     "timestamp": 1659196995273,
     "user": {
      "displayName": "19BEC4166 Roahit S",
      "userId": "06327347452334748308"
     },
     "user_tz": -330
    },
    "id": "IoqNBauRwyze"
   },
   "outputs": [],
   "source": [
    "assembler = VectorAssembler(inputCols= feature_columns, outputCol= \"features\")"
   ]
  },
  {
   "cell_type": "code",
   "execution_count": 17,
   "metadata": {
    "collapsed": true,
    "executionInfo": {
     "elapsed": 378,
     "status": "ok",
     "timestamp": 1659196995632,
     "user": {
      "displayName": "19BEC4166 Roahit S",
      "userId": "06327347452334748308"
     },
     "user_tz": -330
    },
    "id": "d5_kwBFCwyzf"
   },
   "outputs": [],
   "source": [
    "vector = assembler.transform(df)"
   ]
  },
  {
   "cell_type": "code",
   "execution_count": 18,
   "metadata": {
    "colab": {
     "base_uri": "https://localhost:8080/",
     "height": 206
    },
    "executionInfo": {
     "elapsed": 678,
     "status": "ok",
     "timestamp": 1659196996307,
     "user": {
      "displayName": "19BEC4166 Roahit S",
      "userId": "06327347452334748308"
     },
     "user_tz": -330
    },
    "id": "QV5gpxXXwyzf",
    "outputId": "76bc292c-53a3-4f44-ada3-bfdd05005970",
    "scrolled": true
   },
   "outputs": [
    {
     "data": {
      "text/html": [
       "\n",
       "  <div id=\"df-cf092e27-9023-4255-b7b6-cc5485200f9e\">\n",
       "    <div class=\"colab-df-container\">\n",
       "      <div>\n",
       "<style scoped>\n",
       "    .dataframe tbody tr th:only-of-type {\n",
       "        vertical-align: middle;\n",
       "    }\n",
       "\n",
       "    .dataframe tbody tr th {\n",
       "        vertical-align: top;\n",
       "    }\n",
       "\n",
       "    .dataframe thead th {\n",
       "        text-align: right;\n",
       "    }\n",
       "</style>\n",
       "<table border=\"1\" class=\"dataframe\">\n",
       "  <thead>\n",
       "    <tr style=\"text-align: right;\">\n",
       "      <th></th>\n",
       "      <th>CRIM</th>\n",
       "      <th>ZN</th>\n",
       "      <th>INDUS</th>\n",
       "      <th>CHAS</th>\n",
       "      <th>NOX</th>\n",
       "      <th>RM</th>\n",
       "      <th>AGE</th>\n",
       "      <th>DIS</th>\n",
       "      <th>RAD</th>\n",
       "      <th>TAX</th>\n",
       "      <th>PT</th>\n",
       "      <th>B</th>\n",
       "      <th>LSTAT</th>\n",
       "      <th>MV</th>\n",
       "      <th>features</th>\n",
       "    </tr>\n",
       "  </thead>\n",
       "  <tbody>\n",
       "    <tr>\n",
       "      <th>0</th>\n",
       "      <td>0.00632</td>\n",
       "      <td>18.0</td>\n",
       "      <td>2.31</td>\n",
       "      <td>0</td>\n",
       "      <td>0.538</td>\n",
       "      <td>6.575</td>\n",
       "      <td>65.199997</td>\n",
       "      <td>4.0900</td>\n",
       "      <td>1</td>\n",
       "      <td>296</td>\n",
       "      <td>15.300000</td>\n",
       "      <td>396.899994</td>\n",
       "      <td>4.98</td>\n",
       "      <td>24.000000</td>\n",
       "      <td>[0.00632, 18.0, 2.309999943, 0.0, 0.537999988,...</td>\n",
       "    </tr>\n",
       "    <tr>\n",
       "      <th>1</th>\n",
       "      <td>0.02731</td>\n",
       "      <td>0.0</td>\n",
       "      <td>7.07</td>\n",
       "      <td>0</td>\n",
       "      <td>0.469</td>\n",
       "      <td>6.421</td>\n",
       "      <td>78.900002</td>\n",
       "      <td>4.9671</td>\n",
       "      <td>2</td>\n",
       "      <td>242</td>\n",
       "      <td>17.799999</td>\n",
       "      <td>396.899994</td>\n",
       "      <td>9.14</td>\n",
       "      <td>21.600000</td>\n",
       "      <td>[0.027310001, 0.0, 7.070000172, 0.0, 0.4690000...</td>\n",
       "    </tr>\n",
       "    <tr>\n",
       "      <th>2</th>\n",
       "      <td>0.02729</td>\n",
       "      <td>0.0</td>\n",
       "      <td>7.07</td>\n",
       "      <td>0</td>\n",
       "      <td>0.469</td>\n",
       "      <td>7.185</td>\n",
       "      <td>61.099998</td>\n",
       "      <td>4.9671</td>\n",
       "      <td>2</td>\n",
       "      <td>242</td>\n",
       "      <td>17.799999</td>\n",
       "      <td>392.829987</td>\n",
       "      <td>4.03</td>\n",
       "      <td>34.700001</td>\n",
       "      <td>[0.02729, 0.0, 7.070000172, 0.0, 0.469000012, ...</td>\n",
       "    </tr>\n",
       "    <tr>\n",
       "      <th>3</th>\n",
       "      <td>0.03237</td>\n",
       "      <td>0.0</td>\n",
       "      <td>2.18</td>\n",
       "      <td>0</td>\n",
       "      <td>0.458</td>\n",
       "      <td>6.998</td>\n",
       "      <td>45.799999</td>\n",
       "      <td>6.0622</td>\n",
       "      <td>3</td>\n",
       "      <td>222</td>\n",
       "      <td>18.700001</td>\n",
       "      <td>394.630005</td>\n",
       "      <td>2.94</td>\n",
       "      <td>33.400002</td>\n",
       "      <td>[0.032370001, 0.0, 2.180000067, 0.0, 0.4580000...</td>\n",
       "    </tr>\n",
       "    <tr>\n",
       "      <th>4</th>\n",
       "      <td>0.06905</td>\n",
       "      <td>0.0</td>\n",
       "      <td>2.18</td>\n",
       "      <td>0</td>\n",
       "      <td>0.458</td>\n",
       "      <td>7.147</td>\n",
       "      <td>54.200001</td>\n",
       "      <td>6.0622</td>\n",
       "      <td>3</td>\n",
       "      <td>222</td>\n",
       "      <td>18.700001</td>\n",
       "      <td>396.899994</td>\n",
       "      <td>5.33</td>\n",
       "      <td>36.200001</td>\n",
       "      <td>[0.069049999, 0.0, 2.180000067, 0.0, 0.4580000...</td>\n",
       "    </tr>\n",
       "  </tbody>\n",
       "</table>\n",
       "</div>\n",
       "      <button class=\"colab-df-convert\" onclick=\"convertToInteractive('df-cf092e27-9023-4255-b7b6-cc5485200f9e')\"\n",
       "              title=\"Convert this dataframe to an interactive table.\"\n",
       "              style=\"display:none;\">\n",
       "        \n",
       "  <svg xmlns=\"http://www.w3.org/2000/svg\" height=\"24px\"viewBox=\"0 0 24 24\"\n",
       "       width=\"24px\">\n",
       "    <path d=\"M0 0h24v24H0V0z\" fill=\"none\"/>\n",
       "    <path d=\"M18.56 5.44l.94 2.06.94-2.06 2.06-.94-2.06-.94-.94-2.06-.94 2.06-2.06.94zm-11 1L8.5 8.5l.94-2.06 2.06-.94-2.06-.94L8.5 2.5l-.94 2.06-2.06.94zm10 10l.94 2.06.94-2.06 2.06-.94-2.06-.94-.94-2.06-.94 2.06-2.06.94z\"/><path d=\"M17.41 7.96l-1.37-1.37c-.4-.4-.92-.59-1.43-.59-.52 0-1.04.2-1.43.59L10.3 9.45l-7.72 7.72c-.78.78-.78 2.05 0 2.83L4 21.41c.39.39.9.59 1.41.59.51 0 1.02-.2 1.41-.59l7.78-7.78 2.81-2.81c.8-.78.8-2.07 0-2.86zM5.41 20L4 18.59l7.72-7.72 1.47 1.35L5.41 20z\"/>\n",
       "  </svg>\n",
       "      </button>\n",
       "      \n",
       "  <style>\n",
       "    .colab-df-container {\n",
       "      display:flex;\n",
       "      flex-wrap:wrap;\n",
       "      gap: 12px;\n",
       "    }\n",
       "\n",
       "    .colab-df-convert {\n",
       "      background-color: #E8F0FE;\n",
       "      border: none;\n",
       "      border-radius: 50%;\n",
       "      cursor: pointer;\n",
       "      display: none;\n",
       "      fill: #1967D2;\n",
       "      height: 32px;\n",
       "      padding: 0 0 0 0;\n",
       "      width: 32px;\n",
       "    }\n",
       "\n",
       "    .colab-df-convert:hover {\n",
       "      background-color: #E2EBFA;\n",
       "      box-shadow: 0px 1px 2px rgba(60, 64, 67, 0.3), 0px 1px 3px 1px rgba(60, 64, 67, 0.15);\n",
       "      fill: #174EA6;\n",
       "    }\n",
       "\n",
       "    [theme=dark] .colab-df-convert {\n",
       "      background-color: #3B4455;\n",
       "      fill: #D2E3FC;\n",
       "    }\n",
       "\n",
       "    [theme=dark] .colab-df-convert:hover {\n",
       "      background-color: #434B5C;\n",
       "      box-shadow: 0px 1px 3px 1px rgba(0, 0, 0, 0.15);\n",
       "      filter: drop-shadow(0px 1px 2px rgba(0, 0, 0, 0.3));\n",
       "      fill: #FFFFFF;\n",
       "    }\n",
       "  </style>\n",
       "\n",
       "      <script>\n",
       "        const buttonEl =\n",
       "          document.querySelector('#df-cf092e27-9023-4255-b7b6-cc5485200f9e button.colab-df-convert');\n",
       "        buttonEl.style.display =\n",
       "          google.colab.kernel.accessAllowed ? 'block' : 'none';\n",
       "\n",
       "        async function convertToInteractive(key) {\n",
       "          const element = document.querySelector('#df-cf092e27-9023-4255-b7b6-cc5485200f9e');\n",
       "          const dataTable =\n",
       "            await google.colab.kernel.invokeFunction('convertToInteractive',\n",
       "                                                     [key], {});\n",
       "          if (!dataTable) return;\n",
       "\n",
       "          const docLinkHtml = 'Like what you see? Visit the ' +\n",
       "            '<a target=\"_blank\" href=https://colab.research.google.com/notebooks/data_table.ipynb>data table notebook</a>'\n",
       "            + ' to learn more about interactive tables.';\n",
       "          element.innerHTML = '';\n",
       "          dataTable['output_type'] = 'display_data';\n",
       "          await google.colab.output.renderOutput(dataTable, element);\n",
       "          const docLink = document.createElement('div');\n",
       "          docLink.innerHTML = docLinkHtml;\n",
       "          element.appendChild(docLink);\n",
       "        }\n",
       "      </script>\n",
       "    </div>\n",
       "  </div>\n",
       "  "
      ],
      "text/plain": [
       "      CRIM    ZN  INDUS  CHAS    NOX     RM        AGE     DIS  RAD  TAX  \\\n",
       "0  0.00632  18.0   2.31     0  0.538  6.575  65.199997  4.0900    1  296   \n",
       "1  0.02731   0.0   7.07     0  0.469  6.421  78.900002  4.9671    2  242   \n",
       "2  0.02729   0.0   7.07     0  0.469  7.185  61.099998  4.9671    2  242   \n",
       "3  0.03237   0.0   2.18     0  0.458  6.998  45.799999  6.0622    3  222   \n",
       "4  0.06905   0.0   2.18     0  0.458  7.147  54.200001  6.0622    3  222   \n",
       "\n",
       "          PT           B  LSTAT         MV  \\\n",
       "0  15.300000  396.899994   4.98  24.000000   \n",
       "1  17.799999  396.899994   9.14  21.600000   \n",
       "2  17.799999  392.829987   4.03  34.700001   \n",
       "3  18.700001  394.630005   2.94  33.400002   \n",
       "4  18.700001  396.899994   5.33  36.200001   \n",
       "\n",
       "                                            features  \n",
       "0  [0.00632, 18.0, 2.309999943, 0.0, 0.537999988,...  \n",
       "1  [0.027310001, 0.0, 7.070000172, 0.0, 0.4690000...  \n",
       "2  [0.02729, 0.0, 7.070000172, 0.0, 0.469000012, ...  \n",
       "3  [0.032370001, 0.0, 2.180000067, 0.0, 0.4580000...  \n",
       "4  [0.069049999, 0.0, 2.180000067, 0.0, 0.4580000...  "
      ]
     },
     "execution_count": 18,
     "metadata": {},
     "output_type": "execute_result"
    }
   ],
   "source": [
    "pands_vector = vector.toPandas()\n",
    "pands_vector.head()"
   ]
  },
  {
   "cell_type": "code",
   "execution_count": 20,
   "metadata": {
    "colab": {
     "base_uri": "https://localhost:8080/"
    },
    "executionInfo": {
     "elapsed": 7,
     "status": "ok",
     "timestamp": 1659196996704,
     "user": {
      "displayName": "19BEC4166 Roahit S",
      "userId": "06327347452334748308"
     },
     "user_tz": -330
    },
    "id": "diu4j2bPwyzg",
    "outputId": "4727af18-6d8a-43f1-cadb-2d29edd14b9d",
    "scrolled": true
   },
   "outputs": [
    {
     "name": "stdout",
     "output_type": "stream",
     "text": [
      "+--------------------+-----------+\n",
      "|            features|         MV|\n",
      "+--------------------+-----------+\n",
      "|[0.00632,18.0,2.3...|       24.0|\n",
      "|[0.027310001,0.0,...|21.60000038|\n",
      "|[0.02729,0.0,7.07...|34.70000076|\n",
      "|[0.032370001,0.0,...|33.40000153|\n",
      "|[0.069049999,0.0,...|36.20000076|\n",
      "|[0.029850001,0.0,...|28.70000076|\n",
      "|[0.088289998,12.5...|22.89999962|\n",
      "|[0.144549996,12.5...|27.10000038|\n",
      "|[0.211239994,12.5...|       16.5|\n",
      "|[0.170039997,12.5...|18.89999962|\n",
      "|[0.224889994,12.5...|       15.0|\n",
      "|[0.117470004,12.5...|18.89999962|\n",
      "|[0.093780003,12.5...|21.70000076|\n",
      "|[0.629760027,0.0,...|20.39999962|\n",
      "|[0.637960017,0.0,...|18.20000076|\n",
      "|[0.627390027,0.0,...|19.89999962|\n",
      "|[1.053930044,0.0,...|23.10000038|\n",
      "|[0.784200013,0.0,...|       17.5|\n",
      "|[0.802709997,0.0,...|20.20000076|\n",
      "|[0.725799978,0.0,...|18.20000076|\n",
      "+--------------------+-----------+\n",
      "only showing top 20 rows\n",
      "\n"
     ]
    }
   ],
   "source": [
    "vector_df = vector.select(['features', 'MV'])\n",
    "vector_df.show()"
   ]
  },
  {
   "cell_type": "code",
   "execution_count": 21,
   "metadata": {
    "collapsed": true,
    "executionInfo": {
     "elapsed": 5,
     "status": "ok",
     "timestamp": 1659196996705,
     "user": {
      "displayName": "19BEC4166 Roahit S",
      "userId": "06327347452334748308"
     },
     "user_tz": -330
    },
    "id": "-Ep9WDtLwyzg"
   },
   "outputs": [],
   "source": [
    "splits = vector_df.randomSplit([0.7, 0.3])\n",
    "train_df = splits[0]\n",
    "test_df = splits[1]"
   ]
  },
  {
   "cell_type": "code",
   "execution_count": 22,
   "metadata": {
    "collapsed": true,
    "executionInfo": {
     "elapsed": 5,
     "status": "ok",
     "timestamp": 1659196996705,
     "user": {
      "displayName": "19BEC4166 Roahit S",
      "userId": "06327347452334748308"
     },
     "user_tz": -330
    },
    "id": "17K5u4vgwyzg"
   },
   "outputs": [],
   "source": [
    "from pyspark.ml.regression import LinearRegression"
   ]
  },
  {
   "cell_type": "code",
   "execution_count": 23,
   "metadata": {
    "collapsed": true,
    "executionInfo": {
     "elapsed": 2040,
     "status": "ok",
     "timestamp": 1659196998741,
     "user": {
      "displayName": "19BEC4166 Roahit S",
      "userId": "06327347452334748308"
     },
     "user_tz": -330
    },
    "id": "7OShs0ZWwyzh"
   },
   "outputs": [],
   "source": [
    "model = LinearRegression(featuresCol= 'features', labelCol= 'MV')\n",
    "model_lr = model.fit(train_df)    "
   ]
  },
  {
   "cell_type": "code",
   "execution_count": 24,
   "metadata": {
    "colab": {
     "base_uri": "https://localhost:8080/"
    },
    "executionInfo": {
     "elapsed": 13,
     "status": "ok",
     "timestamp": 1659196998742,
     "user": {
      "displayName": "19BEC4166 Roahit S",
      "userId": "06327347452334748308"
     },
     "user_tz": -330
    },
    "id": "d1Ts7y0Zwyzh",
    "outputId": "534ba41e-cb3f-4164-8829-9e79b11c6274",
    "scrolled": true
   },
   "outputs": [
    {
     "data": {
      "text/plain": [
       "DenseVector([-0.1441, 0.051, 0.0069, 3.0814, -18.511, 3.6444, -0.0039, -1.5512, 0.4124, -0.0149, -0.9981, 0.01, -0.5169])"
      ]
     },
     "execution_count": 24,
     "metadata": {},
     "output_type": "execute_result"
    }
   ],
   "source": [
    "model_lr.coefficients"
   ]
  },
  {
   "cell_type": "code",
   "execution_count": 26,
   "metadata": {
    "colab": {
     "base_uri": "https://localhost:8080/"
    },
    "executionInfo": {
     "elapsed": 13,
     "status": "ok",
     "timestamp": 1659196998744,
     "user": {
      "displayName": "19BEC4166 Roahit S",
      "userId": "06327347452334748308"
     },
     "user_tz": -330
    },
    "id": "-R52SqtCwyzi",
    "outputId": "ad4b298a-c9b8-4813-fb01-9a47a5a4de33"
   },
   "outputs": [
    {
     "data": {
      "text/plain": [
       "39.267672567791216"
      ]
     },
     "execution_count": 26,
     "metadata": {},
     "output_type": "execute_result"
    }
   ],
   "source": [
    "model_lr.intercept"
   ]
  },
  {
   "cell_type": "code",
   "execution_count": 27,
   "metadata": {
    "colab": {
     "base_uri": "https://localhost:8080/"
    },
    "executionInfo": {
     "elapsed": 10,
     "status": "ok",
     "timestamp": 1659196998744,
     "user": {
      "displayName": "19BEC4166 Roahit S",
      "userId": "06327347452334748308"
     },
     "user_tz": -330
    },
    "id": "jFWfFQcvwyzj",
    "outputId": "c340cca6-1c2b-4f9c-a7a7-3c32dac1c8ec"
   },
   "outputs": [
    {
     "name": "stdout",
     "output_type": "stream",
     "text": [
      "+--------------------+-----------+------------------+\n",
      "|            features|         MV|        prediction|\n",
      "+--------------------+-----------+------------------+\n",
      "|[0.01311,90.0,1.2...|35.40000153|31.553693632343943|\n",
      "|[0.02055,85.0,0.7...|24.70000076|24.768308541596152|\n",
      "|[0.02177,82.5,2.0...|42.29999924| 37.06391646804898|\n",
      "|[0.02187,60.0,2.9...|31.10000038| 32.24792705080656|\n",
      "|[0.02899,40.0,1.2...|26.60000038|21.499407704123705|\n",
      "|[0.033059999,0.0,...|20.60000038|22.368885139341153|\n",
      "|[0.034449998,82.5...|24.10000038| 29.44766870147291|\n",
      "|[0.035020001,80.0...|       28.5|  33.8149350587754|\n",
      "|[0.035100002,95.0...|       48.5| 42.57840661736431|\n",
      "|[0.03548,80.0,3.6...|20.89999962| 21.67021644061087|\n",
      "|[0.041129999,25.0...|       28.0|28.429351844801612|\n",
      "|[0.042939998,28.0...|20.60000038| 27.02994546526208|\n",
      "|[0.043790001,80.0...|19.39999962|25.945472554950186|\n",
      "|[0.04544,0.0,3.24...|19.79999924|21.280646033398444|\n",
      "|[0.049320001,33.0...|28.20000076| 33.26874085034083|\n",
      "|[0.055610001,70.0...|       29.0| 32.13915664093983|\n",
      "|[0.056019999,0.0,...|       50.0| 35.84085446574936|\n",
      "|[0.056439999,40.0...|32.40000153|36.773693525717945|\n",
      "|[0.057799999,0.0,...|37.20000076| 33.03273378550101|\n",
      "|[0.057890002,12.5...|       22.0|21.047076185372156|\n",
      "+--------------------+-----------+------------------+\n",
      "only showing top 20 rows\n",
      "\n"
     ]
    }
   ],
   "source": [
    "predictions = model_lr.transform(test_df) # we use transform method to test the model\n",
    "predictions.show()"
   ]
  },
  {
   "cell_type": "code",
   "execution_count": 28,
   "metadata": {
    "collapsed": true,
    "executionInfo": {
     "elapsed": 472,
     "status": "ok",
     "timestamp": 1659196999208,
     "user": {
      "displayName": "19BEC4166 Roahit S",
      "userId": "06327347452334748308"
     },
     "user_tz": -330
    },
    "id": "uN2X02NLwyzk"
   },
   "outputs": [],
   "source": [
    "summary = model_lr.evaluate(test_df)"
   ]
  },
  {
   "cell_type": "code",
   "execution_count": 29,
   "metadata": {
    "colab": {
     "base_uri": "https://localhost:8080/"
    },
    "executionInfo": {
     "elapsed": 10,
     "status": "ok",
     "timestamp": 1659196999209,
     "user": {
      "displayName": "19BEC4166 Roahit S",
      "userId": "06327347452334748308"
     },
     "user_tz": -330
    },
    "id": "Nl8nOD13wyzl",
    "outputId": "3cc39e03-adb1-4755-9c53-cf415e3d1e63"
   },
   "outputs": [
    {
     "name": "stdout",
     "output_type": "stream",
     "text": [
      "4.46829041377678\n"
     ]
    }
   ],
   "source": [
    "print(summary.rootMeanSquaredError)"
   ]
  },
  {
   "cell_type": "code",
   "execution_count": 30,
   "metadata": {
    "colab": {
     "base_uri": "https://localhost:8080/"
    },
    "executionInfo": {
     "elapsed": 9,
     "status": "ok",
     "timestamp": 1659196999210,
     "user": {
      "displayName": "19BEC4166 Roahit S",
      "userId": "06327347452334748308"
     },
     "user_tz": -330
    },
    "id": "pEzoP5XGwyzm",
    "outputId": "480e13df-d60e-40f9-f92f-13920d225616"
   },
   "outputs": [
    {
     "name": "stdout",
     "output_type": "stream",
     "text": [
      "0.7668479296315855\n"
     ]
    }
   ],
   "source": [
    "print(summary.r2)"
   ]
  }
 ],
 "metadata": {
  "colab": {
   "authorship_tag": "ABX9TyNrk6OPffYBG/WvnGrP9in0",
   "collapsed_sections": [],
   "name": "hadoop and spark exam.ipynb",
   "provenance": []
  },
  "kernelspec": {
   "display_name": "Python 3 (ipykernel)",
   "language": "python",
   "name": "python3"
  },
  "language_info": {
   "codemirror_mode": {
    "name": "ipython",
    "version": 3
   },
   "file_extension": ".py",
   "mimetype": "text/x-python",
   "name": "python",
   "nbconvert_exporter": "python",
   "pygments_lexer": "ipython3",
   "version": "3.9.7"
  }
 },
 "nbformat": 4,
 "nbformat_minor": 1
}
